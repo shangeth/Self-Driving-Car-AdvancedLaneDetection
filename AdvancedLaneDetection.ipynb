{
  "nbformat": 4,
  "nbformat_minor": 0,
  "metadata": {
    "colab": {
      "name": "AdvancedLaneDetection.ipynb",
      "version": "0.3.2",
      "provenance": [],
      "collapsed_sections": [],
      "include_colab_link": true
    },
    "kernelspec": {
      "name": "python3",
      "display_name": "Python 3"
    },
    "accelerator": "GPU"
  },
  "cells": [
    {
      "cell_type": "markdown",
      "metadata": {
        "id": "view-in-github",
        "colab_type": "text"
      },
      "source": [
        "[View in Colaboratory](https://colab.research.google.com/github/shangeth/Self-Driving-Car-AdvancedLaneDetection/blob/master/AdvancedLaneDetection.ipynb)"
      ]
    },
    {
      "metadata": {
        "id": "xCbTiszyGCIs",
        "colab_type": "code",
        "colab": {
          "base_uri": "https://localhost:8080/",
          "height": 377
        },
        "outputId": "d8df0809-4139-4a7d-c7b2-8ff558641fbe"
      },
      "cell_type": "code",
      "source": [
        "! wget https://www.dropbox.com/s/rrh8lrdclzlnxzv/full_CNN_train.p?dl=0"
      ],
      "execution_count": 3,
      "outputs": [
        {
          "output_type": "stream",
          "text": [
            "--2018-10-15 14:21:11--  https://www.dropbox.com/s/rrh8lrdclzlnxzv/full_CNN_train.p?dl=0\n",
            "Resolving www.dropbox.com (www.dropbox.com)... 162.125.8.1, 2620:100:6018:1::a27d:301\n",
            "Connecting to www.dropbox.com (www.dropbox.com)|162.125.8.1|:443... connected.\n",
            "HTTP request sent, awaiting response... 301 Moved Permanently\n",
            "Location: /s/raw/rrh8lrdclzlnxzv/full_CNN_train.p [following]\n",
            "--2018-10-15 14:21:11--  https://www.dropbox.com/s/raw/rrh8lrdclzlnxzv/full_CNN_train.p\n",
            "Reusing existing connection to www.dropbox.com:443.\n",
            "HTTP request sent, awaiting response... 302 Found\n",
            "Location: https://uc84753834f23daf83bebdbdfe36.dl.dropboxusercontent.com/cd/0/inline/ATH4JgAiOMuohnfY9mvH1SrwXFjGze1q0UMCbOXmNQw2lC7iQ_zzq3YeoOqoU2az2MdJMWunz4sYUTNyjDLXTEIfObc37ci2wP5NzUxKqbuVpv19C9alHNIZmeBrfInqPLc_RUZ_nnqP1C0OG8s8RWM0L57AfephsWA4PmzchpVHk46PzkzOAyBwx_XRsFwSPQQ/file [following]\n",
            "--2018-10-15 14:21:12--  https://uc84753834f23daf83bebdbdfe36.dl.dropboxusercontent.com/cd/0/inline/ATH4JgAiOMuohnfY9mvH1SrwXFjGze1q0UMCbOXmNQw2lC7iQ_zzq3YeoOqoU2az2MdJMWunz4sYUTNyjDLXTEIfObc37ci2wP5NzUxKqbuVpv19C9alHNIZmeBrfInqPLc_RUZ_nnqP1C0OG8s8RWM0L57AfephsWA4PmzchpVHk46PzkzOAyBwx_XRsFwSPQQ/file\n",
            "Resolving uc84753834f23daf83bebdbdfe36.dl.dropboxusercontent.com (uc84753834f23daf83bebdbdfe36.dl.dropboxusercontent.com)... 162.125.8.6, 2620:100:6018:6::a27d:306\n",
            "Connecting to uc84753834f23daf83bebdbdfe36.dl.dropboxusercontent.com (uc84753834f23daf83bebdbdfe36.dl.dropboxusercontent.com)|162.125.8.6|:443... connected.\n",
            "HTTP request sent, awaiting response... 200 OK\n",
            "Length: 490915614 (468M) [text/plain]\n",
            "Saving to: ‘full_CNN_train.p?dl=0’\n",
            "\n",
            "full_CNN_train.p?dl 100%[===================>] 468.17M  25.5MB/s    in 18s     \n",
            "\n",
            "2018-10-15 14:21:31 (25.7 MB/s) - ‘full_CNN_train.p?dl=0’ saved [490915614/490915614]\n",
            "\n"
          ],
          "name": "stdout"
        }
      ]
    },
    {
      "metadata": {
        "id": "8rBBKhU4GoqP",
        "colab_type": "code",
        "colab": {
          "base_uri": "https://localhost:8080/",
          "height": 377
        },
        "outputId": "5be16b26-c89e-4cbe-8cd4-a4fae1cef09c"
      },
      "cell_type": "code",
      "source": [
        "! wget https://www.dropbox.com/s/ak850zqqfy6ily0/full_CNN_labels.p?dl=0"
      ],
      "execution_count": 4,
      "outputs": [
        {
          "output_type": "stream",
          "text": [
            "--2018-10-15 14:21:55--  https://www.dropbox.com/s/ak850zqqfy6ily0/full_CNN_labels.p?dl=0\n",
            "Resolving www.dropbox.com (www.dropbox.com)... 162.125.8.1, 2620:100:6018:1::a27d:301\n",
            "Connecting to www.dropbox.com (www.dropbox.com)|162.125.8.1|:443... connected.\n",
            "HTTP request sent, awaiting response... 301 Moved Permanently\n",
            "Location: /s/raw/ak850zqqfy6ily0/full_CNN_labels.p [following]\n",
            "--2018-10-15 14:21:55--  https://www.dropbox.com/s/raw/ak850zqqfy6ily0/full_CNN_labels.p\n",
            "Reusing existing connection to www.dropbox.com:443.\n",
            "HTTP request sent, awaiting response... 302 Found\n",
            "Location: https://uc0f4b86cee32f4197b0d0b31147.dl.dropboxusercontent.com/cd/0/inline/ATHuPiA4gs8750gV6n1NUT1IsVUM4K4RjRUs7ZwTw3_Qhk7kpeDvJGZSN9wij2Y_uq3gsOuZ4bSwxq9XiRNrtMZD7MMRZbaFb2KBAtsjlxFUhIQTFHrouBc48Ujfd6P1ej4LOfyDvUbFu5cXClT09KdvcGw0laUzQbNsY9TIMqrTpN7vk8W4HjkYaABRJmVtJfc/file [following]\n",
            "--2018-10-15 14:21:55--  https://uc0f4b86cee32f4197b0d0b31147.dl.dropboxusercontent.com/cd/0/inline/ATHuPiA4gs8750gV6n1NUT1IsVUM4K4RjRUs7ZwTw3_Qhk7kpeDvJGZSN9wij2Y_uq3gsOuZ4bSwxq9XiRNrtMZD7MMRZbaFb2KBAtsjlxFUhIQTFHrouBc48Ujfd6P1ej4LOfyDvUbFu5cXClT09KdvcGw0laUzQbNsY9TIMqrTpN7vk8W4HjkYaABRJmVtJfc/file\n",
            "Resolving uc0f4b86cee32f4197b0d0b31147.dl.dropboxusercontent.com (uc0f4b86cee32f4197b0d0b31147.dl.dropboxusercontent.com)... 162.125.3.6, 2620:100:601b:6::a27d:806\n",
            "Connecting to uc0f4b86cee32f4197b0d0b31147.dl.dropboxusercontent.com (uc0f4b86cee32f4197b0d0b31147.dl.dropboxusercontent.com)|162.125.3.6|:443... connected.\n",
            "HTTP request sent, awaiting response... 200 OK\n",
            "Length: 164188504 (157M) [text/plain]\n",
            "Saving to: ‘full_CNN_labels.p?dl=0’\n",
            "\n",
            "full_CNN_labels.p?d 100%[===================>] 156.58M  86.5MB/s    in 1.8s    \n",
            "\n",
            "2018-10-15 14:21:58 (86.5 MB/s) - ‘full_CNN_labels.p?dl=0’ saved [164188504/164188504]\n",
            "\n"
          ],
          "name": "stdout"
        }
      ]
    },
    {
      "metadata": {
        "id": "ZxExtfMRQ45k",
        "colab_type": "text"
      },
      "cell_type": "markdown",
      "source": [
        "## Importing Dependencies"
      ]
    },
    {
      "metadata": {
        "id": "vMhTCukIGanB",
        "colab_type": "code",
        "colab": {}
      },
      "cell_type": "code",
      "source": [
        "import numpy as np\n",
        "import pickle\n",
        "from sklearn.utils import shuffle\n",
        "from sklearn.model_selection import train_test_split"
      ],
      "execution_count": 0,
      "outputs": []
    },
    {
      "metadata": {
        "id": "NTPUNz9xGLZc",
        "colab_type": "code",
        "colab": {
          "base_uri": "https://localhost:8080/",
          "height": 34
        },
        "outputId": "1e4a895a-8093-4e8a-b350-5f44b96d4820"
      },
      "cell_type": "code",
      "source": [
        "from keras.models import Sequential\n",
        "from keras.layers import Activation, Dropout, UpSampling2D\n",
        "from keras.layers import Conv2DTranspose, Conv2D, MaxPooling2D\n",
        "from keras.layers.normalization import BatchNormalization\n",
        "from keras.preprocessing.image import ImageDataGenerator\n",
        "from keras import regularizers"
      ],
      "execution_count": 2,
      "outputs": [
        {
          "output_type": "stream",
          "text": [
            "Using TensorFlow backend.\n"
          ],
          "name": "stderr"
        }
      ]
    },
    {
      "metadata": {
        "id": "7vpX6LtKQ88E",
        "colab_type": "text"
      },
      "cell_type": "markdown",
      "source": [
        "## Getting the Data"
      ]
    },
    {
      "metadata": {
        "id": "DwKGS58IGNWc",
        "colab_type": "code",
        "colab": {}
      },
      "cell_type": "code",
      "source": [
        "train_images = pickle.load(open(\"full_CNN_train.p?dl=0\", \"rb\" ))\n",
        "labels = pickle.load(open(\"full_CNN_labels.p?dl=0\", \"rb\" ))"
      ],
      "execution_count": 0,
      "outputs": []
    },
    {
      "metadata": {
        "id": "k48py8GKGz_w",
        "colab_type": "code",
        "colab": {}
      },
      "cell_type": "code",
      "source": [
        "train_images = np.array(train_images)\n",
        "labels = np.array(labels)"
      ],
      "execution_count": 0,
      "outputs": []
    },
    {
      "metadata": {
        "id": "FNXGB9x2G1Ku",
        "colab_type": "code",
        "colab": {}
      },
      "cell_type": "code",
      "source": [
        "labels = labels / 255"
      ],
      "execution_count": 0,
      "outputs": []
    },
    {
      "metadata": {
        "id": "gCYYHt3zHAm7",
        "colab_type": "code",
        "colab": {}
      },
      "cell_type": "code",
      "source": [
        "train_images, labels = shuffle(train_images, labels)"
      ],
      "execution_count": 0,
      "outputs": []
    },
    {
      "metadata": {
        "id": "weyoDyGJRH3o",
        "colab_type": "text"
      },
      "cell_type": "markdown",
      "source": [
        "## Test Train Split"
      ]
    },
    {
      "metadata": {
        "id": "-TVusVe2HCaW",
        "colab_type": "code",
        "colab": {}
      },
      "cell_type": "code",
      "source": [
        "X_train, X_val, y_train, y_val = train_test_split(train_images, labels, test_size=0.1)"
      ],
      "execution_count": 0,
      "outputs": []
    },
    {
      "metadata": {
        "id": "XEhhOct0RK9o",
        "colab_type": "text"
      },
      "cell_type": "markdown",
      "source": [
        "## Model"
      ]
    },
    {
      "metadata": {
        "id": "BpgI6FL9HDqa",
        "colab_type": "code",
        "colab": {}
      },
      "cell_type": "code",
      "source": [
        "batch_size = 128\n",
        "epochs = 10\n",
        "pool_size = (2, 2)\n",
        "input_shape = X_train.shape[1:]"
      ],
      "execution_count": 0,
      "outputs": []
    },
    {
      "metadata": {
        "id": "ho7rvcqdHE41",
        "colab_type": "code",
        "colab": {}
      },
      "cell_type": "code",
      "source": [
        "model = Sequential()\n",
        "model.add(BatchNormalization(input_shape=input_shape))\n",
        "\n",
        "# Conv Layer 1\n",
        "model.add(Conv2D(8, (3, 3), padding='valid', strides=(1,1), activation = 'relu', name = 'Conv1'))\n",
        "\n",
        "# Conv Layer 2\n",
        "model.add(Conv2D(16, (3, 3), padding='valid', strides=(1,1), activation = 'relu', name = 'Conv2'))\n",
        "\n",
        "# Pooling 1\n",
        "model.add(MaxPooling2D(pool_size=pool_size))\n",
        "\n",
        "# Conv Layer 3\n",
        "model.add(Conv2D(16, (3, 3), padding='valid', strides=(1,1), activation = 'relu', name = 'Conv3'))\n",
        "model.add(Dropout(0.2))\n",
        "\n",
        "# Conv Layer 4\n",
        "model.add(Conv2D(32, (3, 3), padding='valid', strides=(1,1), activation = 'relu', name = 'Conv4'))\n",
        "model.add(Dropout(0.2))\n",
        "\n",
        "# Conv Layer 5\n",
        "model.add(Conv2D(32, (3, 3), padding='valid', strides=(1,1), activation = 'relu', name = 'Conv5'))\n",
        "model.add(Dropout(0.2))\n",
        "\n",
        "# Pooling 2\n",
        "model.add(MaxPooling2D(pool_size=pool_size))\n",
        "\n",
        "# Conv Layer 6\n",
        "model.add(Conv2D(64, (3, 3), padding='valid', strides=(1,1), activation = 'relu', name = 'Conv6'))\n",
        "model.add(Dropout(0.2))\n",
        "\n",
        "# Conv Layer 7\n",
        "model.add(Conv2D(64, (3, 3), padding='valid', strides=(1,1), activation = 'relu', name = 'Conv7'))\n",
        "model.add(Dropout(0.2))\n",
        "\n",
        "# Pooling 3\n",
        "model.add(MaxPooling2D(pool_size=pool_size))\n",
        "\n",
        "# Upsample 1\n",
        "model.add(UpSampling2D(size=pool_size))\n",
        "\n",
        "# Deconv 1\n",
        "model.add(Conv2DTranspose(64, (3, 3), padding='valid', strides=(1,1), activation = 'relu', name = 'Deconv1'))\n",
        "model.add(Dropout(0.2))\n",
        "\n",
        "# Deconv 2\n",
        "model.add(Conv2DTranspose(64, (3, 3), padding='valid', strides=(1,1), activation = 'relu', name = 'Deconv2'))\n",
        "model.add(Dropout(0.2))\n",
        "\n",
        "# Upsample 2\n",
        "model.add(UpSampling2D(size=pool_size))\n",
        "\n",
        "# Deconv 3\n",
        "model.add(Conv2DTranspose(32, (3, 3), padding='valid', strides=(1,1), activation = 'relu', name = 'Deconv3'))\n",
        "model.add(Dropout(0.2))\n",
        "\n",
        "# Deconv 4\n",
        "model.add(Conv2DTranspose(32, (3, 3), padding='valid', strides=(1,1), activation = 'relu', name = 'Deconv4'))\n",
        "model.add(Dropout(0.2))\n",
        "\n",
        "# Deconv 5\n",
        "model.add(Conv2DTranspose(16, (3, 3), padding='valid', strides=(1,1), activation = 'relu', name = 'Deconv5'))\n",
        "model.add(Dropout(0.2))\n",
        "\n",
        "# Upsample 3\n",
        "model.add(UpSampling2D(size=pool_size))\n",
        "\n",
        "# Deconv 6\n",
        "model.add(Conv2DTranspose(16, (3, 3), padding='valid', strides=(1,1), activation = 'relu', name = 'Deconv6'))\n",
        "\n",
        "model.add(Conv2DTranspose(1, (3, 3), padding='valid', strides=(1,1), activation = 'relu', name = 'Final'))"
      ],
      "execution_count": 0,
      "outputs": []
    },
    {
      "metadata": {
        "id": "WHXm9ahMRQw2",
        "colab_type": "text"
      },
      "cell_type": "markdown",
      "source": [
        "## Generating new images to avoid overfitting"
      ]
    },
    {
      "metadata": {
        "id": "FvFMNtcjHPV0",
        "colab_type": "code",
        "colab": {}
      },
      "cell_type": "code",
      "source": [
        "datagen = ImageDataGenerator(channel_shift_range=0.2)\n",
        "datagen.fit(X_train)"
      ],
      "execution_count": 0,
      "outputs": []
    },
    {
      "metadata": {
        "id": "t0IhqQmOHRKK",
        "colab_type": "code",
        "colab": {
          "base_uri": "https://localhost:8080/",
          "height": 374
        },
        "outputId": "48a4c99f-6b2e-42eb-aaa4-e86a3b247f01"
      },
      "cell_type": "code",
      "source": [
        "model.compile(optimizer='Adam', loss='mean_squared_error')\n",
        "model.fit_generator(datagen.flow(X_train, y_train, batch_size=batch_size), steps_per_epoch=len(X_train)/batch_size,\n",
        "epochs=epochs, verbose=1, validation_data=(X_val, y_val))"
      ],
      "execution_count": 18,
      "outputs": [
        {
          "output_type": "stream",
          "text": [
            "Epoch 1/10\n",
            "90/89 [==============================] - 39s 429ms/step - loss: 0.0505 - val_loss: 0.0251\n",
            "Epoch 2/10\n",
            "90/89 [==============================] - 31s 341ms/step - loss: 0.0157 - val_loss: 0.0137\n",
            "Epoch 3/10\n",
            "90/89 [==============================] - 31s 341ms/step - loss: 0.0119 - val_loss: 0.0095\n",
            "Epoch 4/10\n",
            "90/89 [==============================] - 31s 341ms/step - loss: 0.0101 - val_loss: 0.0084\n",
            "Epoch 5/10\n",
            "90/89 [==============================] - 31s 341ms/step - loss: 0.0092 - val_loss: 0.0085\n",
            "Epoch 6/10\n",
            "90/89 [==============================] - 31s 341ms/step - loss: 0.0086 - val_loss: 0.0077\n",
            "Epoch 7/10\n",
            "90/89 [==============================] - 31s 341ms/step - loss: 0.0084 - val_loss: 0.0076\n",
            "Epoch 8/10\n",
            "90/89 [==============================] - 31s 341ms/step - loss: 0.0081 - val_loss: 0.0078\n",
            "Epoch 9/10\n",
            "90/89 [==============================] - 31s 341ms/step - loss: 0.0078 - val_loss: 0.0070\n",
            "Epoch 10/10\n",
            "90/89 [==============================] - 31s 342ms/step - loss: 0.0077 - val_loss: 0.0068\n"
          ],
          "name": "stdout"
        },
        {
          "output_type": "execute_result",
          "data": {
            "text/plain": [
              "<keras.callbacks.History at 0x7feef613f898>"
            ]
          },
          "metadata": {
            "tags": []
          },
          "execution_count": 18
        }
      ]
    },
    {
      "metadata": {
        "id": "YL8cF0rEHUuz",
        "colab_type": "code",
        "colab": {}
      },
      "cell_type": "code",
      "source": [
        "model.trainable = False\n",
        "model.compile(optimizer='Adam', loss='mean_squared_error')"
      ],
      "execution_count": 0,
      "outputs": []
    },
    {
      "metadata": {
        "id": "NL2o5uqjI10Y",
        "colab_type": "code",
        "colab": {
          "base_uri": "https://localhost:8080/",
          "height": 1190
        },
        "outputId": "6d615efe-49c1-4438-9881-d91d0feb4ba6"
      },
      "cell_type": "code",
      "source": [
        "model.save('full_CNN_model.h5')\n",
        "\n",
        "model.summary()"
      ],
      "execution_count": 20,
      "outputs": [
        {
          "output_type": "stream",
          "text": [
            "_________________________________________________________________\n",
            "Layer (type)                 Output Shape              Param #   \n",
            "=================================================================\n",
            "batch_normalization_1 (Batch (None, 80, 160, 3)        12        \n",
            "_________________________________________________________________\n",
            "Conv1 (Conv2D)               (None, 78, 158, 8)        224       \n",
            "_________________________________________________________________\n",
            "Conv2 (Conv2D)               (None, 76, 156, 16)       1168      \n",
            "_________________________________________________________________\n",
            "max_pooling2d_1 (MaxPooling2 (None, 38, 78, 16)        0         \n",
            "_________________________________________________________________\n",
            "Conv3 (Conv2D)               (None, 36, 76, 16)        2320      \n",
            "_________________________________________________________________\n",
            "dropout_1 (Dropout)          (None, 36, 76, 16)        0         \n",
            "_________________________________________________________________\n",
            "Conv4 (Conv2D)               (None, 34, 74, 32)        4640      \n",
            "_________________________________________________________________\n",
            "dropout_2 (Dropout)          (None, 34, 74, 32)        0         \n",
            "_________________________________________________________________\n",
            "Conv5 (Conv2D)               (None, 32, 72, 32)        9248      \n",
            "_________________________________________________________________\n",
            "dropout_3 (Dropout)          (None, 32, 72, 32)        0         \n",
            "_________________________________________________________________\n",
            "max_pooling2d_2 (MaxPooling2 (None, 16, 36, 32)        0         \n",
            "_________________________________________________________________\n",
            "Conv6 (Conv2D)               (None, 14, 34, 64)        18496     \n",
            "_________________________________________________________________\n",
            "dropout_4 (Dropout)          (None, 14, 34, 64)        0         \n",
            "_________________________________________________________________\n",
            "Conv7 (Conv2D)               (None, 12, 32, 64)        36928     \n",
            "_________________________________________________________________\n",
            "dropout_5 (Dropout)          (None, 12, 32, 64)        0         \n",
            "_________________________________________________________________\n",
            "max_pooling2d_3 (MaxPooling2 (None, 6, 16, 64)         0         \n",
            "_________________________________________________________________\n",
            "up_sampling2d_1 (UpSampling2 (None, 12, 32, 64)        0         \n",
            "_________________________________________________________________\n",
            "Deconv1 (Conv2DTranspose)    (None, 14, 34, 64)        36928     \n",
            "_________________________________________________________________\n",
            "dropout_6 (Dropout)          (None, 14, 34, 64)        0         \n",
            "_________________________________________________________________\n",
            "Deconv2 (Conv2DTranspose)    (None, 16, 36, 64)        36928     \n",
            "_________________________________________________________________\n",
            "dropout_7 (Dropout)          (None, 16, 36, 64)        0         \n",
            "_________________________________________________________________\n",
            "up_sampling2d_2 (UpSampling2 (None, 32, 72, 64)        0         \n",
            "_________________________________________________________________\n",
            "Deconv3 (Conv2DTranspose)    (None, 34, 74, 32)        18464     \n",
            "_________________________________________________________________\n",
            "dropout_8 (Dropout)          (None, 34, 74, 32)        0         \n",
            "_________________________________________________________________\n",
            "Deconv4 (Conv2DTranspose)    (None, 36, 76, 32)        9248      \n",
            "_________________________________________________________________\n",
            "dropout_9 (Dropout)          (None, 36, 76, 32)        0         \n",
            "_________________________________________________________________\n",
            "Deconv5 (Conv2DTranspose)    (None, 38, 78, 16)        4624      \n",
            "_________________________________________________________________\n",
            "dropout_10 (Dropout)         (None, 38, 78, 16)        0         \n",
            "_________________________________________________________________\n",
            "up_sampling2d_3 (UpSampling2 (None, 76, 156, 16)       0         \n",
            "_________________________________________________________________\n",
            "Deconv6 (Conv2DTranspose)    (None, 78, 158, 16)       2320      \n",
            "_________________________________________________________________\n",
            "Final (Conv2DTranspose)      (None, 80, 160, 1)        145       \n",
            "=================================================================\n",
            "Total params: 181,693\n",
            "Trainable params: 0\n",
            "Non-trainable params: 181,693\n",
            "_________________________________________________________________\n"
          ],
          "name": "stdout"
        }
      ]
    },
    {
      "metadata": {
        "id": "nAr8LSqVI4DX",
        "colab_type": "code",
        "colab": {}
      },
      "cell_type": "code",
      "source": [
        ""
      ],
      "execution_count": 0,
      "outputs": []
    }
  ]
}